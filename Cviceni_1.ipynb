{
  "nbformat": 4,
  "nbformat_minor": 0,
  "metadata": {
    "colab": {
      "name": "Cviceni#1.ipynb",
      "provenance": [],
      "authorship_tag": "ABX9TyOEy3w4odWcaB+Pcm13aJL7",
      "include_colab_link": true
    },
    "kernelspec": {
      "name": "python3",
      "display_name": "Python 3"
    },
    "language_info": {
      "name": "python"
    }
  },
  "cells": [
    {
      "cell_type": "markdown",
      "metadata": {
        "id": "view-in-github",
        "colab_type": "text"
      },
      "source": [
        "<a href=\"https://colab.research.google.com/github/RadimJedlicka/experiments/blob/main/Cviceni_1.ipynb\" target=\"_parent\"><img src=\"https://colab.research.google.com/assets/colab-badge.svg\" alt=\"Open In Colab\"/></a>"
      ]
    },
    {
      "cell_type": "markdown",
      "source": [
        "<br>\n",
        "\n",
        "# Základní operace, datové typy\n",
        "V této části si zopakujeme systém definice proměnných, datové typy které budou tyto proměnné reprezentovat a základní operace s nimi."
      ],
      "metadata": {
        "id": "R1_uM4haJk1q"
      }
    },
    {
      "cell_type": "markdown",
      "source": [
        "**Úkol 1**: Jsou dány proměnné x=3, y=2. Proveď následující operace:\n",
        "\n",
        "- součet x a 70\n",
        "- součet x a y\n",
        "- součin x a y\n",
        "- x<sup>y</sup>\n",
        "- x + 2y<sup>2</sup>\n",
        "- x děleno y\n",
        "- x děleno y, zaokrouhleno na nejmenší celé číslo"
      ],
      "metadata": {
        "id": "9jJhW9o5JqzX"
      }
    },
    {
      "cell_type": "code",
      "execution_count": null,
      "metadata": {
        "id": "vNnyRQqDJXYg",
        "cellView": "form"
      },
      "outputs": [],
      "source": [
        "#@title Řešení\n",
        "x = 3\n",
        "y = 2\n",
        "\n",
        "print('součet x a 70 je', x + 70)\n",
        "print('součet x a y je', x +y)\n",
        "print('součin x a y je', x * y)\n",
        "print('x na y je', x**y)\n",
        "print('x + 2y(na druhou) je', x + 2*(y**2))\n",
        "print('x děleno y je', x / y)\n",
        "print('x děleno y, zaokrouhleno na nejmenší celé číslo je', x // y)"
      ]
    },
    {
      "cell_type": "markdown",
      "source": [
        "<br>\n",
        "\n",
        "**Úkol 2**: Je dána proměnná x = 10. K této proměnné přičti y = 3 a výsledek ulož do proměnné x. Zkus použít pythonovský zkrácený syntax. Obdobně proveď operace násobení, dělení a umocnění."
      ],
      "metadata": {
        "id": "h66mi6omMLwV"
      }
    },
    {
      "cell_type": "code",
      "source": [
        "#@title Řešení\n",
        "x = 10\n",
        "y = 3\n",
        "\n",
        "x += y\n",
        "print(x)"
      ],
      "metadata": {
        "id": "lJYPmLlFMNvB",
        "cellView": "form"
      },
      "execution_count": null,
      "outputs": []
    },
    {
      "cell_type": "markdown",
      "source": [
        "<br>\n",
        "\n",
        "**Úkol 3**: Jsou dány následující proměnné. Zjisti, o jaké datové typy se jedná jak u proměnných samotných, tak u součtu proměnných a, b. Pak najdi způsob, jak zkombinovat proměnné c, d. Jaký datový typ je mezera (\" \") ?\n",
        "- a = 5\n",
        "- b = 2.4\n",
        "- c = 'hello'\n",
        "- d = '123'"
      ],
      "metadata": {
        "id": "utR2MqluM9FU"
      }
    },
    {
      "cell_type": "code",
      "source": [
        "#@title Řešení\n",
        "a = 5\n",
        "print(type(a))\n",
        "\n",
        "b = 2.4\n",
        "print(type(b))\n",
        "\n",
        "c = 'hello'\n",
        "print(type(c))\n",
        "\n",
        "d = '123'\n",
        "print(type(d))\n",
        "\n",
        "print(c + d)\n",
        "\n",
        "print(type(' '))"
      ],
      "metadata": {
        "id": "W5n1wRIZNACr",
        "cellView": "form"
      },
      "execution_count": null,
      "outputs": []
    },
    {
      "cell_type": "markdown",
      "source": [
        "<br>\n",
        "\n",
        "**Úkol 4**: Jsou dány následující proměnné. Poskládej z nich smyslupnou větu do jednoho stringu.\n",
        "\n",
        "- my_age = 32\n",
        "- my_name = 'Petr'\n",
        "- sentence_1 = 'My name is'\n",
        "- sentence_2_start = 'I am'\n",
        "- sentence_2_end = 'years old'"
      ],
      "metadata": {
        "id": "DEROeKrnN_98"
      }
    },
    {
      "cell_type": "code",
      "source": [
        "#@title Řešení\n",
        "my_age = 32\n",
        "my_name = 'Petr'\n",
        "sentence_1 = 'My name is'\n",
        "sentence_2_start = 'I am'\n",
        "sentence_2_end = 'years old'\n",
        "\n",
        "print(sentence_1, my_name, sentence_2_start, my_age, sentence_2_end)"
      ],
      "metadata": {
        "id": "B-rp6Bp5OOIo",
        "cellView": "form"
      },
      "execution_count": null,
      "outputs": []
    },
    {
      "cell_type": "markdown",
      "source": [
        "<br>\n",
        "\n",
        "##Datové struktury\n",
        "Při práci s daty a programování obecně bývá vhodné využití různých datových struktur. Takové struktury umožňují ukládat sekvence hodnot jako jeden celek a umožňují tak rychlejší vývoj a efektivní využití programovacího jazyka."
      ],
      "metadata": {
        "id": "JMWYChRsPDCt"
      }
    },
    {
      "cell_type": "markdown",
      "source": [
        "<br>\n",
        "\n",
        "**Úkol 5**: Sestav list sestávající z těchto členů:\n",
        "\n",
        "1, 3, \"orange\", \"3.5\", \"car\""
      ],
      "metadata": {
        "id": "Sc8wllmfPKzL"
      }
    },
    {
      "cell_type": "code",
      "source": [
        "#@title Řešení\n",
        "list1 = [1, 3, 'orange', '3.5', 'car']"
      ],
      "metadata": {
        "id": "KYc0eKNpPN2i",
        "cellView": "form"
      },
      "execution_count": null,
      "outputs": []
    },
    {
      "cell_type": "markdown",
      "source": [
        "<br>\n",
        "\n",
        "**Úkol 6**: Z předešlého listu postupně :\n",
        "\n",
        "- vyber třetí člen\n",
        "- vyber druhý člen od konce\n",
        "- vyber první tři členy\n",
        "- vynech z listu každý druhý člen\n",
        "- změň třetí člen na blue\n",
        "- vytvoř nový list l1 o stejných členech, ale seřazený pozpátku"
      ],
      "metadata": {
        "id": "5-28bzMSPXMX"
      }
    },
    {
      "cell_type": "code",
      "source": [
        "#@title Řešení\n",
        "print(list1[2])\n",
        "print(list1[-2])\n",
        "print(list1[0:3])\n",
        "print(list1[::2])\n",
        "\n",
        "list1[2] = 'blue'\n",
        "print(list1)\n",
        "\n",
        "list2 = list1[::-1]\n",
        "print(list2)"
      ],
      "metadata": {
        "id": "ZbDP3ZfcPdeJ",
        "cellView": "form"
      },
      "execution_count": null,
      "outputs": []
    },
    {
      "cell_type": "markdown",
      "source": [
        "<br>\n",
        "\n",
        "**Úkol 7**: Vytvoř tuple na základě listu l1"
      ],
      "metadata": {
        "id": "np4fqHbWQp5k"
      }
    },
    {
      "cell_type": "code",
      "source": [
        "#@title Řešení\n",
        "list3 = tuple(list2)\n",
        "print(list3)"
      ],
      "metadata": {
        "id": "jq9QXK0xQstY",
        "cellView": "form"
      },
      "execution_count": null,
      "outputs": []
    },
    {
      "cell_type": "markdown",
      "source": [
        "<br>\n",
        "\n",
        "**Úkol 8**: Definuj tuple o členech:\n",
        "- \"a\", \"b\", 5, 5.23, -5\n"
      ],
      "metadata": {
        "id": "C_l3ObWcQ-MC"
      }
    },
    {
      "cell_type": "code",
      "source": [
        "#@title Řešení\n",
        "tuple2 = (\"a\", \"b\", 5, 5.23, -5)\n",
        "print(tuple2)"
      ],
      "metadata": {
        "id": "njTtSyeQRBQE",
        "cellView": "form"
      },
      "execution_count": null,
      "outputs": []
    },
    {
      "cell_type": "markdown",
      "source": [
        "<br>\n",
        "\n",
        "**Úkol 9**: Vyber poslední tři členy tuplu. Pak zkus změnit poslední člen tuplu na -4."
      ],
      "metadata": {
        "id": "LYibmLxORYN6"
      }
    },
    {
      "cell_type": "code",
      "source": [
        "#@title Řešení\n",
        "print(tuple2[-3:])\n",
        "\n",
        "# tuple nelze menit"
      ],
      "metadata": {
        "id": "-4ay0DngRbTv",
        "cellView": "form"
      },
      "execution_count": null,
      "outputs": []
    },
    {
      "cell_type": "markdown",
      "source": [
        "\n",
        "<br>\n",
        "\n",
        "**Úkol 10**: Vytvoř slovník (dictionary) d s klíči: first_name, last_name, age. K nim definuj hodnoty 'John', 'Doe', 30."
      ],
      "metadata": {
        "id": "sWqn1PH1RuuZ"
      }
    },
    {
      "cell_type": "code",
      "source": [
        "#@title Řešení\n",
        "d = {\n",
        "     'first_name': 'John',\n",
        "     'last_name': 'Doe',\n",
        "     'age': 30\n",
        "}\n",
        "\n",
        "print(d)"
      ],
      "metadata": {
        "id": "sFOU_gPxR0CH",
        "cellView": "form"
      },
      "execution_count": null,
      "outputs": []
    },
    {
      "cell_type": "markdown",
      "source": [
        "<br>\n",
        "\n",
        "**Úkol 11**: Ve slovníku změň příjmení na 'Snow'. Přidej další klíč 'stuff', jako hodnotu přiřaď libovolný list. Nakonec přidej do slovníku další klíč 'cousin', hodnota bude opět slovník. Tento vnořený slovník má klíč=hodnota páry: first_name='Marty', last_name='McFly'."
      ],
      "metadata": {
        "id": "k-dmCjB4SLwV"
      }
    },
    {
      "cell_type": "code",
      "source": [
        "#@title Řešení\n",
        "d['last_name'] = 'Snow'\n",
        "print(d)\n",
        "\n",
        "d['stuff'] = [1, 2, 3]\n",
        "print(d)\n",
        "\n",
        "d['cousin'] = {'first_name': 'Marty', 'last_name': 'McFly'}\n",
        "print(d)"
      ],
      "metadata": {
        "id": "Af4cljg3SVHa",
        "cellView": "form"
      },
      "execution_count": null,
      "outputs": []
    },
    {
      "cell_type": "markdown",
      "source": [
        "<br>\n",
        "\n",
        "**Úkol 12**: Zobraz věk osoby ze slovníku. Jak se jmenuje Johnův bratranec příjmením ? Načti tuto informaci ze slovníku."
      ],
      "metadata": {
        "id": "h_1xp0R4TFeC"
      }
    },
    {
      "cell_type": "code",
      "source": [
        "#@title Řešení\n",
        "print(d['age'])\n",
        "print(d['cousin']['last_name'])"
      ],
      "metadata": {
        "id": "JW9yJzJ8TH_e",
        "cellView": "form"
      },
      "execution_count": null,
      "outputs": []
    },
    {
      "cell_type": "markdown",
      "source": [
        "<br>\n",
        "\n",
        "##Funkce a datové struktury\n",
        "Python obsahuje mnoho vestavěných funkcí, příslušejících konkrétním datovým strukturám. Tyto funkce umožňují kód zpřehlednit a značně urychlit řešení daných úkonů."
      ],
      "metadata": {
        "id": "IsaXM7mqTuLe"
      }
    },
    {
      "cell_type": "markdown",
      "source": [
        "<br>\n",
        "\n",
        "**Úkol 13**: Najdi délku, součet, největší a nejmenší číslo listu l = [101,45,8,1,5,48,65,1,20,12,35,14,75,65]\n",
        "\n"
      ],
      "metadata": {
        "id": "Q_n8y8sDT2YX"
      }
    },
    {
      "cell_type": "code",
      "source": [
        "#@title Řešení\n",
        "l = [101,45,8,1,5,48,65,1,20,12,35,14,75,65]\n",
        "\n",
        "print(len(l))\n",
        "print(sum(l))\n",
        "print(max(l))\n",
        "print(min(l))"
      ],
      "metadata": {
        "id": "pPddjp22T66J",
        "cellView": "form"
      },
      "execution_count": null,
      "outputs": []
    },
    {
      "cell_type": "markdown",
      "source": [
        "<br>\n",
        "\n",
        "**Úkol 14**: Předešlé operace zkus aplikovat na slovník d = {\"brand\": \"Ford\",\"model\": \"Mustang\",\"year\": 1964}"
      ],
      "metadata": {
        "id": "nz2kyfb6UN7L"
      }
    },
    {
      "cell_type": "code",
      "source": [
        "#@title Řešení\n",
        "d = {\"brand\": \"Ford\",\"model\": \"Mustang\",\"year\": 1964}\n",
        "print(len(d))\n",
        "#print(sum(d))\n",
        "print(max(d))\n",
        "print(min(d))\n",
        "x = (min(d))"
      ],
      "metadata": {
        "id": "lrMRYcigUNgU",
        "cellView": "form"
      },
      "execution_count": null,
      "outputs": []
    },
    {
      "cell_type": "markdown",
      "source": [
        "<br><br>\n",
        "\n",
        "# <center> **Cykly** </center>"
      ],
      "metadata": {
        "id": "RmhbsPbMVZTd"
      }
    },
    {
      "cell_type": "markdown",
      "source": [
        "<br>\n",
        "\n",
        "**Úkol 1**: Je dán list l = [\"apple\", \"banana\", \"cherry\", \"apple\", \"cherry\", \"orange\", \"mango\"]. Pomocí cyklu vypiš každou jeho položku na nový řádek.\n",
        "\n"
      ],
      "metadata": {
        "id": "iVQ58ZR9WA-h"
      }
    },
    {
      "cell_type": "code",
      "source": [
        "#@title Řešení\n",
        "\n",
        "l = [\"apple\", \"banana\", \"cherry\", \"apple\", \"cherry\", \"orange\", \"mango\"]\n",
        "\n",
        "for _ in l:\n",
        "    print(_)"
      ],
      "metadata": {
        "id": "msHYz-j4Vh_z",
        "cellView": "form"
      },
      "execution_count": null,
      "outputs": []
    },
    {
      "cell_type": "markdown",
      "source": [
        "<br>\n",
        "\n",
        "**Úkol 2**: Ze stejného listu vypiš pro všechna slova postupně všechna jejich písmena (jeden řádek = jedno písmeno). Jednotlivá slova odděl prázdným řádkem."
      ],
      "metadata": {
        "id": "UozQXG3GWQPJ"
      }
    },
    {
      "cell_type": "code",
      "source": [
        "#@title Řešení\n",
        "l = [\"apple\", \"banana\", \"cherry\", \"apple\", \"cherry\", \"orange\", \"mango\"]\n",
        "\n",
        "for slovo in l:\n",
        "    for pismeno in slovo:\n",
        "        print(pismeno)\n",
        "    print()"
      ],
      "metadata": {
        "id": "bqlj3_q6WKmt",
        "cellView": "form"
      },
      "execution_count": null,
      "outputs": []
    },
    {
      "cell_type": "markdown",
      "source": [
        "<br>\n",
        "\n",
        "**Úkol 3**: Vytvoř nový list, jehož členy představují pouze první písmeno každého slova z předchozího listu."
      ],
      "metadata": {
        "id": "szOLdwbkWrJl"
      }
    },
    {
      "cell_type": "code",
      "source": [
        "#@title Řešení\n",
        "new_list = []\n",
        "\n",
        "for slovo in l:\n",
        "    new_list.append(slovo[:1])\n",
        "\n",
        "print(new_list)"
      ],
      "metadata": {
        "id": "6OE3NMupWtS5",
        "cellView": "form"
      },
      "execution_count": null,
      "outputs": []
    },
    {
      "cell_type": "markdown",
      "source": [
        "<br>\n",
        "\n",
        "**Úkol 4**: Vygeneruj stejný list jako v předchozím úkolu, ale s pomocí 'list comprhension' syntaxe. Ověř, zda jsou listy vytvořené oběma způsoby totožné."
      ],
      "metadata": {
        "id": "hc4KRPOFXLdz"
      }
    },
    {
      "cell_type": "code",
      "source": [
        "#@title Řešení\n",
        "new_list_comperhension = [fruit[0] for fruit in l]\n",
        "print(new_list_comperhension)\n",
        "print(new_list_comperhension == new_list)"
      ],
      "metadata": {
        "id": "3G4KfnE5XPQv",
        "cellView": "form"
      },
      "execution_count": null,
      "outputs": []
    },
    {
      "cell_type": "markdown",
      "source": [
        "<br>\n",
        "\n",
        "**Úkol 5**: Vygeneruj list číslic od -4 po 25"
      ],
      "metadata": {
        "id": "AsKNnffuXxMY"
      }
    },
    {
      "cell_type": "code",
      "source": [
        "#@title Řešení\n",
        "generated_list = list(range(-4, 26))\n",
        "print(generated_list)"
      ],
      "metadata": {
        "id": "h86T8dHHX2wH",
        "cellView": "form"
      },
      "execution_count": null,
      "outputs": []
    },
    {
      "cell_type": "markdown",
      "source": [
        "nebo 2. varianta:"
      ],
      "metadata": {
        "id": "VQYS1FyRYIAR"
      }
    },
    {
      "cell_type": "code",
      "source": [
        "#@title Řešení { display-mode: \"form\" }\n",
        "generated_list2 = [cislo for cislo in range(-4, 26)]\n",
        "print(generated_list2)"
      ],
      "metadata": {
        "id": "1OD9LHi2YLP5"
      },
      "execution_count": null,
      "outputs": []
    },
    {
      "cell_type": "markdown",
      "source": [
        "<br>\n",
        "\n",
        "**Úkol 6**: Vygeneruj stejný list jako z předchozího cvičení, ale v opačném pořadí."
      ],
      "metadata": {
        "id": "8SQQUhq2YvyL"
      }
    },
    {
      "cell_type": "code",
      "source": [
        "#@title Řešení\n",
        "generated_list3 = list(range(-4, 26))\n",
        "generated_list3 = generated_list3[::-1]\n",
        "print(generated_list3)"
      ],
      "metadata": {
        "id": "R9iX4LnQY1kT",
        "cellView": "form"
      },
      "execution_count": null,
      "outputs": []
    },
    {
      "cell_type": "markdown",
      "source": [
        "nebo 2. varianta:"
      ],
      "metadata": {
        "id": "EPoAO_VuZDS_"
      }
    },
    {
      "cell_type": "code",
      "source": [
        "#@title Řešení\n",
        "l_range_reversed = [i for i in range(25,-5,-1)]\n",
        "print(l_range_reversed)"
      ],
      "metadata": {
        "id": "A_-qbr4pZFen",
        "cellView": "form"
      },
      "execution_count": null,
      "outputs": []
    },
    {
      "cell_type": "markdown",
      "source": [
        "<br>\n",
        "\n",
        "**Úkol 7**: Sečti čísla z předchozího listu pomocí cyklu."
      ],
      "metadata": {
        "id": "XZ3C4GsrZMFZ"
      }
    },
    {
      "cell_type": "code",
      "source": [
        "#@title Řešení\n",
        "generated_list3_soucet = 0\n",
        "\n",
        "for ele in generated_list3:\n",
        "    generated_list3_soucet += ele\n",
        "\n",
        "print(generated_list3_soucet)"
      ],
      "metadata": {
        "id": "Mg1IuUGRZOze",
        "cellView": "form"
      },
      "execution_count": null,
      "outputs": []
    },
    {
      "cell_type": "markdown",
      "source": [
        "<br>\n",
        "\n",
        "**Úkol 8**: Vytvoř dictionary, jehož klíče představují index (pozici) číslice z předešlého listu a hodnoty jsou odpovídající číslice z listu."
      ],
      "metadata": {
        "id": "i_aIB8VAaBfU"
      }
    },
    {
      "cell_type": "code",
      "source": [
        "#@title Řešení\n",
        "dictionary = {}\n",
        "\n",
        "for index, element in enumerate(generated_list3):\n",
        "    dictionary[index] = element\n",
        "\n",
        "print(dictionary)"
      ],
      "metadata": {
        "id": "L6HmdCG7aFAz",
        "cellView": "form"
      },
      "execution_count": null,
      "outputs": []
    },
    {
      "cell_type": "markdown",
      "source": [
        "ze zadani:"
      ],
      "metadata": {
        "id": "XsiALtnJazMr"
      }
    },
    {
      "cell_type": "code",
      "source": [
        "#@title Řešení\n",
        "dict_a = {index:number for index, number in enumerate(l_range_reversed)}\n",
        "# \n",
        "# nebo \n",
        "#\n",
        "dict_b = {}\n",
        "for index, number in enumerate(l_range_reversed):\n",
        "    dict_b[index] = number\n",
        "#   \n",
        "# nebo bez funkce enumerate\n",
        "#\n",
        "dict_c = {}\n",
        "for i in range(len(l_range_reversed)):\n",
        "    dict_c[i] =l_range_reversed[i]"
      ],
      "metadata": {
        "id": "cXP56IYOa1Hw",
        "cellView": "form"
      },
      "execution_count": null,
      "outputs": []
    },
    {
      "cell_type": "markdown",
      "source": [
        "<br>\n",
        "\n",
        "**Úkol 9**: Jsou dány následující listy. Ke každém Star Wars charakteru z prvního listu přísluší číslo epizody, ve kterém se poprvé vyskytl. Tato čísla se nachází ve druhém listu. Na každý nový řádek vypiš string ve stylu:\n",
        "\n",
        "- 'Anakin Skywalker - Episode 1'"
      ],
      "metadata": {
        "id": "NpQ9rdEIa-SB"
      }
    },
    {
      "cell_type": "code",
      "source": [
        "#@title Řešení\n",
        "l_names = ['Darth Vader', 'Obi-Wan Kenobi', 'Mace Windu', 'R2D2', 'Luke Skywalker', 'Kylo Ren', 'Count Dooku']\n",
        "l_episodes = [3,1,1,1,4,7,2]\n",
        "\n",
        "for character, episode in zip(l_names,l_episodes):\n",
        "    print(f'{character} - Episode {episode}')"
      ],
      "metadata": {
        "id": "NouSgYvhbEx7",
        "cellView": "form"
      },
      "execution_count": null,
      "outputs": []
    },
    {
      "cell_type": "markdown",
      "source": [
        "<br><br>\n",
        "\n",
        "#<center>**Podmínky**"
      ],
      "metadata": {
        "id": "_jgXvATp8X2C"
      }
    },
    {
      "cell_type": "markdown",
      "source": [
        "<br>\n",
        "\n",
        "##Podmínky"
      ],
      "metadata": {
        "id": "SCOp-uf88q9K"
      }
    },
    {
      "cell_type": "markdown",
      "source": [
        "**Úkol 1**: Je dán list l = ['car', 'apple', 'cat', 'monkey', 'honey', 'cucumber', 'glove', 'shirt', 'color']. Vyber z něj jen slova, která začínají písmenem c. Vlož je do nového listu."
      ],
      "metadata": {
        "id": "qOHvV54h8vm1"
      }
    },
    {
      "cell_type": "code",
      "source": [
        "#@title Řešení\n",
        "l = ['car', 'apple', 'cat', 'monkey', 'honey', 'cucumber', 'glove', 'shirt', 'color']\n",
        "l_new = []\n",
        "\n",
        "for item in l:\n",
        "    if item.startswith('c') is True:\n",
        "        l_new.append(item)\n",
        "print(l_new)\n"
      ],
      "metadata": {
        "id": "xSpoPAj68hSC",
        "cellView": "form"
      },
      "execution_count": null,
      "outputs": []
    },
    {
      "cell_type": "markdown",
      "source": [
        "<br>\n",
        "\n",
        "**Úkol 2**: Z předchozího listu vyber jen slova delší než tři písmena a kratší nebo rovno než pět písmen. Pokud je slovo kratší nebo rovno 3 písmenům, bude místo něj string 'TOO SHORT', Pokud je slovo delší než pět, bude místo něj string 'TOO LONG'."
      ],
      "metadata": {
        "id": "0O0LV-Rd9pY6"
      }
    },
    {
      "cell_type": "code",
      "source": [
        "#@title Řešení\n",
        "l_new2 = []\n",
        "for item in l:\n",
        "    if len(item) <= 3:\n",
        "        l_new2.append('TOO SHORT')\n",
        "    elif len(item) > 5:\n",
        "        l_new2.append('TOO LONG')\n",
        "    else:\n",
        "        l_new2.append(item)\n",
        "print(l_new2)"
      ],
      "metadata": {
        "id": "H3q0HRT0-M2V",
        "cellView": "form"
      },
      "execution_count": null,
      "outputs": []
    },
    {
      "cell_type": "markdown",
      "source": [
        "<br>\n",
        "\n",
        "**Úkol 3**: Z listu l vytvoř nový list l2, jehož elementy představují délku slov z listu l8. Pokud má slovo 3 nebo méně písmen, vynechej ho. Pokud je délka slova dělitelná dvěma, doplň místo něj číslici 2."
      ],
      "metadata": {
        "id": "QQ7AftYH_Ue8"
      }
    },
    {
      "cell_type": "code",
      "source": [
        "#@title Řešení\n",
        "l2 = []\n",
        "for word in l:\n",
        "    if len(word) <= 3:\n",
        "        continue\n",
        "    else:\n",
        "        if len(word) % 2 == 0:\n",
        "            l2.append(2)\n",
        "        else:\n",
        "            l2.append(len(word))\n",
        "print(l2)"
      ],
      "metadata": {
        "id": "CH-Dz23y_Wui",
        "cellView": "form"
      },
      "execution_count": null,
      "outputs": []
    },
    {
      "cell_type": "markdown",
      "source": [
        "<br>\n",
        "\n",
        "**Úkol 4**: Je dán list `l = [2,6,13,34,6,78,9,5,78,34,22,20,19,51,54,34,23,76,87]`. Zkontroluj všechna jeho čísla - pokud je číslo liché, přičti k němu jeho index v listu."
      ],
      "metadata": {
        "id": "mexjBniK_sAI"
      }
    },
    {
      "cell_type": "code",
      "source": [
        "#@title Řešení\n",
        "l = [2,6,13,34,6,78,9,5,78,34,22,20,19,51,54,34,23,76,87]\n",
        "l_new = []\n",
        "\n",
        "for index, number in enumerate(l):\n",
        "    if number % 2 == 1:\n",
        "        l_new.append(number + index)\n",
        "    else:\n",
        "        l_new.append(number)\n",
        "print(l_new)"
      ],
      "metadata": {
        "id": "VTtOBVAY_0eI",
        "cellView": "form"
      },
      "execution_count": null,
      "outputs": []
    },
    {
      "cell_type": "markdown",
      "source": [
        "<br>\n",
        "\n",
        "**Úkol 5**: Vytvoř dictionary s klíči reprezentujícími dvě skupinky - lichá a sudá čísla. Čísla z listu l rozřaď do těchto skupinek"
      ],
      "metadata": {
        "id": "ouawHtdNBHS0"
      }
    },
    {
      "cell_type": "code",
      "source": [
        "#@title Řešení\n",
        "l = [2,6,13,34,6,78,9,5,78,34,22,20,19,51,54,34,23,76,87]\n",
        "\n",
        "dictionary = {'suda': [], 'licha': []}\n",
        "\n",
        "for number in l:\n",
        "    if number % 2 == 0:\n",
        "        dictionary['suda'].append(number)\n",
        "    else:\n",
        "        dictionary['licha'].append(number)\n",
        "print(dictionary)"
      ],
      "metadata": {
        "id": "yTDUHSB2BKlY",
        "cellView": "form"
      },
      "execution_count": null,
      "outputs": []
    },
    {
      "cell_type": "markdown",
      "source": [
        "<br>\n",
        "\n",
        "##Logické operátory"
      ],
      "metadata": {
        "id": "XulmC6PTCQqw"
      }
    },
    {
      "cell_type": "markdown",
      "source": [
        "<br>\n",
        "\n",
        "**Úkol 6**: Spočítej, kolik čísel je v listu `l = [2,6,13,34,6,78,9,5,78,34,22,20,19,51,54,34,23,76,87]` dělitelných třemi (celkově, ne unikátních) a zároveň je větších než 15. Vypiš všechna tato čísla a nakonec zobraz jejich počet."
      ],
      "metadata": {
        "id": "PW6__UiwCXSv"
      }
    },
    {
      "cell_type": "code",
      "source": [
        "#@title Řešení\n",
        "l = [2,6,13,34,6,78,9,5,78,34,22,20,19,51,54,34,23,76,87]\n",
        "new_list = []\n",
        "\n",
        "for number in l:\n",
        "    if number % 3 == 0 and number > 15:\n",
        "        new_list.append(number)\n",
        "print(new_list)\n",
        "print(len(new_list))"
      ],
      "metadata": {
        "colab": {
          "base_uri": "https://localhost:8080/"
        },
        "id": "HXdEx69PCTJo",
        "outputId": "05de6c90-4407-4437-9643-26505f913ccb"
      },
      "execution_count": 3,
      "outputs": [
        {
          "output_type": "stream",
          "name": "stdout",
          "text": [
            "[78, 78, 51, 54, 87]\n",
            "5\n"
          ]
        }
      ]
    },
    {
      "cell_type": "code",
      "source": [
        "#@title Řešení\n",
        "count_n = 0\n",
        "for number in l:\n",
        "    if number > 15 and number % 3 == 0:\n",
        "        print(number)\n",
        "        count_n += 1\n",
        "print(f'There are {count_n} numbers matching the condition.')"
      ],
      "metadata": {
        "colab": {
          "base_uri": "https://localhost:8080/"
        },
        "id": "uywzOzo9DKDH",
        "outputId": "29a9d24d-6dc2-4276-fb7e-323724e40a80"
      },
      "execution_count": 4,
      "outputs": [
        {
          "output_type": "stream",
          "name": "stdout",
          "text": [
            "78\n",
            "78\n",
            "51\n",
            "54\n",
            "87\n",
            "There are 5 numbers matching the condition.\n"
          ]
        }
      ]
    },
    {
      "cell_type": "markdown",
      "source": [
        "<br>\n",
        "\n",
        "**Úkol 7**: Vytvoř nový list, který vychází z listu `l`. Pokud je číslo v listu `l` liché, a nebo větší než 50 a zároveň menší než 70, bude místo něj písmeno 'x'. Pokud nevyhovuje předchozím podmínkám, zůstane číslo tak, jak je tomu v listu `l`."
      ],
      "metadata": {
        "id": "FD5RprbPDZt8"
      }
    },
    {
      "cell_type": "code",
      "source": [
        "l = [2,6,13,34,6,78,9,5,78,34,22,20,19,51,54,34,23,76,87]"
      ],
      "metadata": {
        "id": "evrfxGrilFWs"
      },
      "execution_count": 5,
      "outputs": []
    },
    {
      "cell_type": "code",
      "source": [
        "#@title Řešení\n",
        "\n",
        "l_new = []\n",
        "\n",
        "for number in l:\n",
        "    if number % 2 == 1 or (number > 50 and number < 70):\n",
        "        l_new.append('x') \n",
        "    else:\n",
        "        l_new.append(number)\n",
        "print(l_new)"
      ],
      "metadata": {
        "id": "R1rp_QOgDiHq"
      },
      "execution_count": null,
      "outputs": []
    },
    {
      "cell_type": "markdown",
      "source": [
        "<br><br>\n",
        "\n",
        "#<center>**Funkce**"
      ],
      "metadata": {
        "id": "eZ3nfQOoHNwl"
      }
    },
    {
      "cell_type": "markdown",
      "source": [
        "##Vestavěné funkce pythonu\n",
        "\n",
        "Python nabízí mnoho vestavěných pre-definovaných funkcí. Tyto funkce pokrývají širokou škálu běžných úkonů, které lze vykonávat na konkrétních datových typech a strukturách. Znalost těchto funkcí dokáže usnadnit práci a podstatně urychlit psaní kódu."
      ],
      "metadata": {
        "id": "eGr3oaT_Hfwk"
      }
    },
    {
      "cell_type": "markdown",
      "source": [
        "**Úkol 1**: je dán list čísel `l = [1,-5,-8,4,6,7,-8,-9,10,12,-11,15,15]`. Vypiš absolutní hodnoty jednotlivých čísel."
      ],
      "metadata": {
        "id": "wbq1XS3YHlVC"
      }
    },
    {
      "cell_type": "code",
      "source": [
        "l = [1,-5,-8,4,6,7,-8,-9,10,12,-11,15,15]"
      ],
      "metadata": {
        "id": "UfI5b6rUHUJn"
      },
      "execution_count": 14,
      "outputs": []
    },
    {
      "cell_type": "code",
      "source": [
        "#@title Řešení\n",
        "\n",
        "for number in l:\n",
        "    print(abs(number))"
      ],
      "metadata": {
        "id": "X_hc-Tugm-yW"
      },
      "execution_count": null,
      "outputs": []
    },
    {
      "cell_type": "markdown",
      "source": [
        "<br>\n",
        "\n",
        "**Úkol 2**: Je některá hodnota v listu nulová ? Pro češení použij pythonovskou built-in funkci."
      ],
      "metadata": {
        "id": "EB4KgxT8JgBu"
      }
    },
    {
      "cell_type": "markdown",
      "source": [
        "any(iterable)\n",
        "Return True if any element of the iterable is true. If the iterable is empty, return False. Equivalent to:\n",
        "<pre>\n",
        "def any(iterable):\n",
        "    for element in iterable:\n",
        "        if element:\n",
        "            return True\n",
        "    return False"
      ],
      "metadata": {
        "id": "4IZZdfKknq6x"
      }
    },
    {
      "cell_type": "code",
      "source": [
        "l = [1,-5,-8,4,6,7,-8,-9,10,12,-11,15,15]"
      ],
      "metadata": {
        "colab": {
          "base_uri": "https://localhost:8080/"
        },
        "id": "cQpkqOYAJi2z",
        "outputId": "60d7bdfd-4e58-4ffa-f592-c99fb2af0f49"
      },
      "execution_count": 16,
      "outputs": [
        {
          "output_type": "execute_result",
          "data": {
            "text/plain": [
              "True"
            ]
          },
          "metadata": {},
          "execution_count": 16
        }
      ]
    },
    {
      "cell_type": "markdown",
      "source": [
        "all(iterable):\n",
        "Return True if all elements of the iterable are true (or if the iterable is empty). Equivalent to:\n",
        "<pre>\n",
        "def all(iterable):\n",
        "    for element in iterable:\n",
        "        if not element:\n",
        "            return False\n",
        "    return True"
      ],
      "metadata": {
        "id": "kmQqZBQVoSQB"
      }
    },
    {
      "cell_type": "code",
      "source": [
        "#@title Řešení\n",
        "\n",
        "print('Zero value is not here: ',any(l))\n",
        "print('All values are non-zero: ',all(l))"
      ],
      "metadata": {
        "cellView": "form",
        "id": "wSO51bxZnZZF"
      },
      "execution_count": null,
      "outputs": []
    },
    {
      "cell_type": "markdown",
      "source": [
        "<br>\n",
        "\n",
        "**Úkol 2**: Pokud jsou v listu nějaké nulové hodnoty, změň je na hodnotu 1. takto pozměněnou řadu čísel ulož jako nový list. Nakonec zkontroluj, zda jsou všechny hodnoty nenulové pomocí built-in funkce."
      ],
      "metadata": {
        "id": "PJjIykdpJvEy"
      }
    },
    {
      "cell_type": "code",
      "source": [
        "l = [1,-5,-8,4,6,7,-8,-9,10,12,-11,15,15]"
      ],
      "metadata": {
        "id": "joUv-PlrovJf"
      },
      "execution_count": 20,
      "outputs": []
    },
    {
      "cell_type": "code",
      "source": [
        "#@title Řešení\n",
        "\n",
        "new_l = []\n",
        "\n",
        "for num in l:\n",
        "    if num == 0:\n",
        "        new_l.append(1)\n",
        "    else:\n",
        "        new_l.append(num)\n",
        "print(new_l)\n",
        "\n",
        "all(new_l)"
      ],
      "metadata": {
        "id": "IyyhATFGJ2E-",
        "cellView": "form"
      },
      "execution_count": null,
      "outputs": []
    },
    {
      "cell_type": "code",
      "source": [
        "#@title Řešení\n",
        "\n",
        "new_l = [n if n != 0 else 1 for n in l]\n",
        "print(all(new_l))"
      ],
      "metadata": {
        "id": "TiPZ_zKSKi46",
        "cellView": "form"
      },
      "execution_count": null,
      "outputs": []
    },
    {
      "cell_type": "markdown",
      "source": [
        "<br>\n",
        "\n",
        "**Úkol 3**: Seřaď hodnoty v listu `l` sestupně."
      ],
      "metadata": {
        "id": "F__0R5VXJ1ve"
      }
    },
    {
      "cell_type": "code",
      "source": [
        "l = [1,-5,-8,4,6,7,-8,-9,10,12,-11,15,15]"
      ],
      "metadata": {
        "id": "1Dp-15z_pEOG"
      },
      "execution_count": 23,
      "outputs": []
    },
    {
      "cell_type": "code",
      "source": [
        "#@title Řešení\n",
        "\n",
        "print(sorted(l, reverse=True))"
      ],
      "metadata": {
        "id": "Kyigd0o1K-QZ",
        "cellView": "form"
      },
      "execution_count": null,
      "outputs": []
    },
    {
      "cell_type": "markdown",
      "source": [
        "<br>\n",
        "\n",
        "**Úkol 4**: Z listu `l` vyber pouze unikátní číslice - žádné dvě se nebudou opakovat. Výstupní struktura bude opět list, seřazený vzestupně."
      ],
      "metadata": {
        "id": "0UUB0dSlLfMJ"
      }
    },
    {
      "cell_type": "code",
      "source": [
        "l = [1,-5,-8,4,6,7,-8,-9,10,12,-11,15,15]"
      ],
      "metadata": {
        "id": "njaNR3rIpaEU"
      },
      "execution_count": 26,
      "outputs": []
    },
    {
      "cell_type": "code",
      "source": [
        "#@title Řešení\n",
        "\n",
        "print(sorted(set(l)))"
      ],
      "metadata": {
        "colab": {
          "base_uri": "https://localhost:8080/"
        },
        "id": "nHcAFkOJLyJx",
        "outputId": "3e60bbb2-6395-43bb-afb8-36fb931e1957"
      },
      "execution_count": 27,
      "outputs": [
        {
          "output_type": "stream",
          "name": "stdout",
          "text": [
            "[-11, -9, -8, -5, 1, 4, 6, 7, 10, 12, 15]\n"
          ]
        }
      ]
    },
    {
      "cell_type": "markdown",
      "source": [
        "<br>\n",
        "\n",
        "**Úkol 5**: Je dán string `'My name is Jeff'`. Nahraď mezery mezi slovy podtržítkem _. Nakonec zajisti, aby všechna písmena byla malá (lowercase).\n",
        "\n"
      ],
      "metadata": {
        "id": "rgQL_G4GMSOM"
      }
    },
    {
      "cell_type": "code",
      "source": [
        "string = 'My name is Jeff'"
      ],
      "metadata": {
        "id": "6Zgsh1gApf0H"
      },
      "execution_count": 28,
      "outputs": []
    },
    {
      "cell_type": "code",
      "source": [
        "#@title Řešení 1\n",
        "\n",
        "novy_string = ''\n",
        "for pismeno in string:\n",
        "    if pismeno == ' ':\n",
        "        novy_string += '_'\n",
        "    else:\n",
        "        novy_string += pismeno.lower()\n",
        "\n",
        "print(novy_string)"
      ],
      "metadata": {
        "cellView": "form",
        "id": "M-uyJmpwpicl"
      },
      "execution_count": null,
      "outputs": []
    },
    {
      "cell_type": "code",
      "source": [
        "#@title Řešení 2\n",
        "\n",
        "new_string = string.replace(' ', '_').lower()\n",
        "print(new_string)"
      ],
      "metadata": {
        "id": "OTh6PWBtMdQS"
      },
      "execution_count": null,
      "outputs": []
    },
    {
      "cell_type": "markdown",
      "source": [
        "#@title Řešení 2"
      ],
      "metadata": {
        "id": "eqtcqeKetHN0"
      }
    },
    {
      "cell_type": "markdown",
      "source": [
        "<br>\n",
        "\n",
        "##Uživatelem definované funkce\n",
        "V případě, že vestavěné funkce nepokrývají naše potřeby, není problém vytvořit si funkce vlastní."
      ],
      "metadata": {
        "id": "y2lr2rgMO68k"
      }
    },
    {
      "cell_type": "markdown",
      "source": [
        "<br>\n",
        "\n",
        "**Úkol 6**: Vytvoř funkci, která umocní každé číslo v listu na druhou a nakonec sečte takto umocněné členy - výsledek bude jediné číslo. Funkci můžeš vyzkoušet na listu `l = [5,3,-2,-4,5,6]`."
      ],
      "metadata": {
        "id": "jsVLtyOzO_a0"
      }
    },
    {
      "cell_type": "code",
      "source": [
        "def my_func(list):\n",
        "    new_list = []\n",
        "    for num in list:\n",
        "        new_list.append(num**2)\n",
        "    return sum(new_list)\n",
        "\n",
        "my_func([5,3,-2,-4,5,6])"
      ],
      "metadata": {
        "id": "YmW67TDnPHrL"
      },
      "execution_count": null,
      "outputs": []
    },
    {
      "cell_type": "markdown",
      "source": [
        "<br>\n",
        "\n",
        "**Úkol 7**: Napiš funkci pro nastavení budíku. Tato funkce má dva vstupní parametry. První parametr je `employed` (zda je člověk zaměstnaný) - True/False, druhý parametr je `vacation` (zda má dovolenou) - True/False. Výstup bude opět boolean - funkce vrátí True, pokud jste zaměstnaný a zárověň nejste na dovolené - tehdy se vyplatí mít nastavený budík."
      ],
      "metadata": {
        "id": "IljirMeESehx"
      }
    },
    {
      "cell_type": "code",
      "source": [
        "def alarm(employed, vacation):\n",
        "    return employed and not vacation\n",
        "    \n",
        "print(alarm(employed=True, vacation=False))\n",
        "print(alarm(employed=False, vacation=False))\n",
        "print(alarm(employed=False, vacation=True))"
      ],
      "metadata": {
        "id": "rRIMeTrOSu50"
      },
      "execution_count": null,
      "outputs": []
    },
    {
      "cell_type": "code",
      "source": [
        "def alarm(employed: bool, vacation: bool) -> bool:\n",
        "    \"\"\"\n",
        "    Function determines whether it is useful for the user to have their alarm set. \n",
        "    \n",
        "    :param employed: True if user is employed\n",
        "    :param vacation: True if user is on vacation\n",
        "    :return: True if alarm should be set\n",
        "    \"\"\"\n",
        "    \n",
        "    return employed and not vacation"
      ],
      "metadata": {
        "id": "lYMnck0IUIxO"
      },
      "execution_count": null,
      "outputs": []
    },
    {
      "cell_type": "markdown",
      "source": [
        "<br>\n",
        "\n",
        "**Úkol 8**: Definuj funkci, která má jako vstup rok (např. 1980) a jejím výstupem je odpovídající století (20)."
      ],
      "metadata": {
        "id": "lPznyZVHT6QO"
      }
    },
    {
      "cell_type": "code",
      "source": [
        "def century(year: int) -> int:\n",
        "    return year // 100 + 1\n",
        "\n",
        "century(1980)"
      ],
      "metadata": {
        "id": "nZr-T8bPT-Vy"
      },
      "execution_count": null,
      "outputs": []
    },
    {
      "cell_type": "markdown",
      "source": [
        "<br>\n",
        "\n",
        "**Úkol 9**: Napiš funkci, která z daného textu vymaže všechny samohlásky."
      ],
      "metadata": {
        "id": "tHHONnc0VIDC"
      }
    },
    {
      "cell_type": "code",
      "source": [
        "def vowels_out(string):\n",
        "    for vowel in 'aeiouyAEIOUY':\n",
        "        string = string.replace(vowel, '')\n",
        "    return string\n",
        "    \n",
        "print(vowels_out('Hello World'))"
      ],
      "metadata": {
        "id": "3BhE2cZeWiaj"
      },
      "execution_count": null,
      "outputs": []
    },
    {
      "cell_type": "markdown",
      "source": [
        "<br>\n",
        "\n",
        "**Úkol 10**: Definuj funkci, která k zadanému číslu přičte hodnotu 5. Použij syntax lambda funkce."
      ],
      "metadata": {
        "id": "5YjMg3mBKFlZ"
      }
    },
    {
      "cell_type": "code",
      "source": [
        "plus_five = lambda x: x + 5\n",
        "\n",
        "plus_five(5)"
      ],
      "metadata": {
        "id": "1didjeClKN45"
      },
      "execution_count": null,
      "outputs": []
    },
    {
      "cell_type": "markdown",
      "source": [
        "<br>\n",
        "\n",
        "**Úkol 11**: Vytvoř lambda funkci, která sečte dvě libovolná čísla."
      ],
      "metadata": {
        "id": "uiiYp7ZiKmVT"
      }
    },
    {
      "cell_type": "code",
      "source": [
        "add_two_nums = lambda x, y: x + y\n",
        "\n",
        "add_two_nums(5, 5)"
      ],
      "metadata": {
        "id": "ROJddeTXKrFI"
      },
      "execution_count": null,
      "outputs": []
    },
    {
      "cell_type": "markdown",
      "source": [
        "<br>\n",
        "\n",
        "**Úkol 12 (pokročilý)**: Je dán list `l = [1,-5,-8,4,6,7,-8,-9,10,12,0,-11,15,15]`. Najdi způsob, jak každé číslo umocnit na druhou mocninu s pomocí lambda funkce. Výsledek bude nový list s druhými mocninami čísel z listu `l`."
      ],
      "metadata": {
        "id": "mAL29PbkK6xp"
      }
    },
    {
      "cell_type": "code",
      "source": [
        "l = [1,-5,-8,4,6,7,-8,-9,10,12,0,-11,15,15]\n",
        "\n",
        "new_l = list(map(lambda x: x**2, l))\n",
        "print(new_l)"
      ],
      "metadata": {
        "id": "ci86NxLxLGZb"
      },
      "execution_count": null,
      "outputs": []
    },
    {
      "cell_type": "markdown",
      "source": [
        "<br>\n",
        "\n",
        "**Úkol 13 (pokročilý)**: Pro stejný list jako v předešlém příkladu použij lambda funkci pro vytvoření nového listu, který bude obsahovat pouze kladná sudá čísla."
      ],
      "metadata": {
        "id": "5-DvbxOQM7K4"
      }
    },
    {
      "cell_type": "code",
      "source": [
        "l = [1,-5,-8,4,6,7,-8,-9,10,12,0,-11,15,15]\n",
        "\n",
        "new_l = list(filter(lambda x: x > 0 and x % 2 == 0, l))\n",
        "print(new_l)"
      ],
      "metadata": {
        "id": "FnL4VXtJNIWm"
      },
      "execution_count": null,
      "outputs": []
    },
    {
      "cell_type": "markdown",
      "source": [
        "<br>\n",
        "\n",
        "**Úkol 14 (pokročilý)**: Je dán list tuplů `l = [(1,5), (4,3), (8,9), (10,5), (1,6)]`. Seřaď tuply do nového listu podle čísla na druhé pozici každého tuplu vzestupně."
      ],
      "metadata": {
        "id": "UBs1mUEZPDiN"
      }
    },
    {
      "cell_type": "code",
      "source": [
        "l = [(1,5), (4,3), (8,9), (10,5), (1,6)]\n",
        "\n",
        "new_list = (sorted(l, key=lambda x: x[1]))\n",
        "\n",
        "new_list"
      ],
      "metadata": {
        "id": "GYBJKlSxPYKj"
      },
      "execution_count": null,
      "outputs": []
    },
    {
      "cell_type": "code",
      "source": [
        "l = [(1,5), (4,3), (8,9), (10,5), (1,6)]\n",
        "func = lambda x: x[1]\n",
        "\n",
        "new_list = (sorted(l, key=func))\n",
        "\n",
        "new_list"
      ],
      "metadata": {
        "id": "_RM7Br-XRvoh"
      },
      "execution_count": null,
      "outputs": []
    }
  ]
}