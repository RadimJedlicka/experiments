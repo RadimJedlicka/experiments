{
  "nbformat": 4,
  "nbformat_minor": 0,
  "metadata": {
    "colab": {
      "name": "07_Instalace-Pythonu-a-pracovni-prostredi.ipynb",
      "provenance": [],
      "authorship_tag": "ABX9TyNXezJNT6I/Ct7VWq5gw7zT",
      "include_colab_link": true
    },
    "kernelspec": {
      "name": "python3",
      "display_name": "Python 3"
    },
    "language_info": {
      "name": "python"
    }
  },
  "cells": [
    {
      "cell_type": "markdown",
      "metadata": {
        "id": "view-in-github",
        "colab_type": "text"
      },
      "source": [
        "<a href=\"https://colab.research.google.com/github/RadimJedlicka/experiments/blob/main/07_Instalace_Pythonu_a_pracovni_prostredi.ipynb\" target=\"_parent\"><img src=\"https://colab.research.google.com/assets/colab-badge.svg\" alt=\"Open In Colab\"/></a>"
      ]
    },
    {
      "cell_type": "markdown",
      "source": [
        "# Instalace Pythonu\n",
        "\n",
        "---"
      ],
      "metadata": {
        "id": "PCXaGiVlvbAq"
      }
    },
    {
      "cell_type": "markdown",
      "source": [
        "<h2>Windows"
      ],
      "metadata": {
        "id": "VfUcU1lywWwc"
      }
    },
    {
      "cell_type": "markdown",
      "source": [
        "[Oficiální zdroj pro stažení a instalaci _Windows](https://www.python.org/downloads/)"
      ],
      "metadata": {
        "id": "fraal4iMvsdF"
      }
    },
    {
      "cell_type": "markdown",
      "source": [
        "<h2>Linux\n",
        "\n",
        "Novější verze Linuxů už mají dostupný Python i ve verzi 3+. Přesto si v příkazovém řádku ověř, jestli je to pravda:\n",
        "\n",
        "`python3 -V`\n",
        "\n",
        "Pokud máš pouze nižší verze, tady je postup instalace Pythonu pro distribuce Debian, Ubuntu, Mint.\n",
        "\n",
        "\n",
        "\n",
        "Nejprve potřebné aktualizace a balíčky:\n",
        "\n",
        "\n",
        "```\n",
        "sudo apt update\n",
        "sudo apt-get install software-properties-common\n",
        "```\n",
        "\n",
        "\n",
        "Přidáme repozitář s Pythonem, aktualizujeme jej a nainstalujeme jazyk:\n",
        "\n",
        "```\n",
        "sudo add-apt-repository ppa:deadsnakes/ppa\n",
        "sudo apt-get update\n",
        "sudo apt install python3.9\n",
        "```\n",
        "\n",
        "Po instalaci ověř, jestli máš aktivní správnou verzi:\n",
        "\n",
        "```\n",
        "python3.9 -V  # výstup by měl vypadat: Python 3.9.0\n",
        "```\n",
        "\n",
        "\n"
      ],
      "metadata": {
        "id": "cUZVR-Mcv4RT"
      }
    },
    {
      "cell_type": "markdown",
      "source": [
        "<h2>MacOS\n",
        "\n",
        "MacOs stejně jako Linuxy má Python již zabudovaný. Ověř v příkazovém řádku jestli příkaz vrátí správnou verzi:\n",
        "\n",
        "python3 -V\n",
        "\n",
        "Pokud bude výsledná hláška chybová, přejdi na oficiální web a vyber v tabulce dole stažení instalačního souboru."
      ],
      "metadata": {
        "id": "4-yOBgOAweJB"
      }
    },
    {
      "cell_type": "code",
      "execution_count": null,
      "metadata": {
        "id": "Knc9luXEWce3"
      },
      "outputs": [],
      "source": [
        ""
      ]
    }
  ]
}